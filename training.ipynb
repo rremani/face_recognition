{
 "cells": [
  {
   "cell_type": "code",
   "execution_count": 1,
   "metadata": {},
   "outputs": [],
   "source": [
    "import multiprocessing\n",
    "import dlib"
   ]
  },
  {
   "cell_type": "code",
   "execution_count": 2,
   "metadata": {},
   "outputs": [],
   "source": [
    "options = dlib.shape_predictor_training_options()"
   ]
  },
  {
   "cell_type": "code",
   "execution_count": 3,
   "metadata": {},
   "outputs": [
    {
     "name": "stdout",
     "output_type": "stream",
     "text": [
      "shape_predictor_training_options(be_verbose=0, cascade_depth=10, tree_depth=4, num_trees_per_cascade_level=500, nu=0.1, oversampling_amount=20, oversampling_translation_jitter=0, feature_pool_size=400, lambda_param=0.1, num_test_splits=20, feature_pool_region_padding=0, random_seed=, num_threads=0, landmark_relative_padding_mode=1)\n"
     ]
    }
   ],
   "source": [
    "print(options)"
   ]
  },
  {
   "cell_type": "code",
   "execution_count": 4,
   "metadata": {},
   "outputs": [],
   "source": [
    "# controls generalization & model complexity\n",
    "options.tree_depth = 4\n",
    "options.nu = 0.1\n",
    "\n",
    "## augmentation for genrality\n",
    "options.oversampling_amount = 5\n",
    "options.oversampling_translation_jitter = 0.1\n",
    "\n",
    "# controls model size\n",
    "options.cascade_depth = 15\n",
    "options.feature_pool_size = 400\n",
    "\n",
    "# training time \n",
    "options.num_test_splits = 50\n",
    "options.num_threads = multiprocessing.cpu_count()"
   ]
  },
  {
   "cell_type": "code",
   "execution_count": 5,
   "metadata": {},
   "outputs": [],
   "source": [
    "options.be_verbose = True"
   ]
  },
  {
   "cell_type": "markdown",
   "metadata": {},
   "source": [
    "# training "
   ]
  },
  {
   "cell_type": "code",
   "execution_count": 6,
   "metadata": {},
   "outputs": [],
   "source": [
    "path_of_training_file = 'ibug_300W_large_face_landmark_dataset/labels_ibug_300W_train_eyes.xml'\n",
    "dlib.train_shape_predictor(path_of_training_file,'./model.dlib', options)"
   ]
  }
 ],
 "metadata": {
  "kernelspec": {
   "display_name": "Python 3",
   "language": "python",
   "name": "python3"
  },
  "language_info": {
   "codemirror_mode": {
    "name": "ipython",
    "version": 3
   },
   "file_extension": ".py",
   "mimetype": "text/x-python",
   "name": "python",
   "nbconvert_exporter": "python",
   "pygments_lexer": "ipython3",
   "version": "3.7.7"
  }
 },
 "nbformat": 4,
 "nbformat_minor": 4
}
