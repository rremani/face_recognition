{
 "cells": [
  {
   "cell_type": "code",
   "execution_count": 1,
   "metadata": {},
   "outputs": [],
   "source": [
    "import re"
   ]
  },
  {
   "cell_type": "code",
   "execution_count": 2,
   "metadata": {},
   "outputs": [],
   "source": [
    "# in the iBUG 300-W dataset, each (x, y)-coordinate maps to a specific\n",
    "# facial feature (i.e., eye, mouth, nose, etc.) -- in order to train a\n",
    "# dlib shape predictor on *just* the eyes, we must first define the\n",
    "# integer indexes that belong to the eyes\n",
    "LANDMARKS = set(list(range(36, 48)))"
   ]
  },
  {
   "cell_type": "code",
   "execution_count": 3,
   "metadata": {},
   "outputs": [
    {
     "name": "stdout",
     "output_type": "stream",
     "text": [
      "[INFO] parsing data split XML file...\n"
     ]
    }
   ],
   "source": [
    "PART = re.compile(\"part name='[0-9]+'\")\n",
    "\n",
    "print(\"[INFO] parsing data split XML file...\")\n",
    "rows = open('ibug_300W_large_face_landmark_dataset/labels_ibug_300W_train.xml').read().strip().split(\"\\n\")\n",
    "output = open('ibug_300W_large_face_landmark_dataset/labels_ibug_300W_train_eyes.xml', \"w\")"
   ]
  },
  {
   "cell_type": "code",
   "execution_count": 4,
   "metadata": {},
   "outputs": [],
   "source": [
    "# loop over the rows of the data split file\n",
    "for row in rows:\n",
    "\t# check to see if the current line has the (x, y)-coordinates for\n",
    "\t# the facial landmarks we are interested in\n",
    "\tparts = re.findall(PART, row)\n",
    "\t# if there is no information related to the (x, y)-coordinates of\n",
    "\t# the facial landmarks, we can write the current line out to disk\n",
    "\t# with no further modifications\n",
    "\tif len(parts) == 0:\n",
    "\t\toutput.write(\"{}\\n\".format(row))\n",
    "\t# otherwise, there is annotation information that we must process\n",
    "\telse:\n",
    "\t\t# parse out the name of the attribute from the row\n",
    "\t\tattr = \"name='\"\n",
    "\t\ti = row.find(attr)\n",
    "\t\tj = row.find(\"'\", i + len(attr) + 1)\n",
    "\t\tname = int(row[i + len(attr):j])\n",
    "\t\t# if the facial landmark name exists within the range of our\n",
    "\t\t# indexes, write it to our output file\n",
    "\t\tif name in LANDMARKS:\n",
    "\t\t\toutput.write(\"{}\\n\".format(row))\n",
    "# close the output file\n",
    "output.close()"
   ]
  },
  {
   "cell_type": "code",
   "execution_count": 5,
   "metadata": {},
   "outputs": [
    {
     "name": "stdout",
     "output_type": "stream",
     "text": [
      "[INFO] parsing data split XML file...\n"
     ]
    }
   ],
   "source": [
    "PART = re.compile(\"part name='[0-9]+'\")\n",
    "\n",
    "print(\"[INFO] parsing data split XML file...\")\n",
    "rows = open('ibug_300W_large_face_landmark_dataset/labels_ibug_300W_test.xml').read().strip().split(\"\\n\")\n",
    "output = open('ibug_300W_large_face_landmark_dataset/labels_ibug_300W_test_eyes.xml', \"w\")"
   ]
  },
  {
   "cell_type": "code",
   "execution_count": 6,
   "metadata": {},
   "outputs": [],
   "source": [
    "# loop over the rows of the data split file\n",
    "for row in rows:\n",
    "\t# check to see if the current line has the (x, y)-coordinates for\n",
    "\t# the facial landmarks we are interested in\n",
    "\tparts = re.findall(PART, row)\n",
    "\t# if there is no information related to the (x, y)-coordinates of\n",
    "\t# the facial landmarks, we can write the current line out to disk\n",
    "\t# with no further modifications\n",
    "\tif len(parts) == 0:\n",
    "\t\toutput.write(\"{}\\n\".format(row))\n",
    "\t# otherwise, there is annotation information that we must process\n",
    "\telse:\n",
    "\t\t# parse out the name of the attribute from the row\n",
    "\t\tattr = \"name='\"\n",
    "\t\ti = row.find(attr)\n",
    "\t\tj = row.find(\"'\", i + len(attr) + 1)\n",
    "\t\tname = int(row[i + len(attr):j])\n",
    "\t\t# if the facial landmark name exists within the range of our\n",
    "\t\t# indexes, write it to our output file\n",
    "\t\tif name in LANDMARKS:\n",
    "\t\t\toutput.write(\"{}\\n\".format(row))\n",
    "# close the output file\n",
    "output.close()"
   ]
  },
  {
   "cell_type": "code",
   "execution_count": null,
   "metadata": {},
   "outputs": [],
   "source": []
  }
 ],
 "metadata": {
  "kernelspec": {
   "display_name": "Python 3",
   "language": "python",
   "name": "python3"
  },
  "language_info": {
   "codemirror_mode": {
    "name": "ipython",
    "version": 3
   },
   "file_extension": ".py",
   "mimetype": "text/x-python",
   "name": "python",
   "nbconvert_exporter": "python",
   "pygments_lexer": "ipython3",
   "version": "3.7.7"
  }
 },
 "nbformat": 4,
 "nbformat_minor": 4
}
